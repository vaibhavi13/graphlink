{
 "cells": [
  {
   "cell_type": "code",
   "execution_count": 1,
   "id": "651a3027",
   "metadata": {
    "execution": {
     "iopub.execute_input": "2023-04-26T07:13:22.384180Z",
     "iopub.status.busy": "2023-04-26T07:13:22.383650Z",
     "iopub.status.idle": "2023-04-26T07:13:25.751381Z",
     "shell.execute_reply": "2023-04-26T07:13:25.750537Z"
    }
   },
   "outputs": [],
   "source": [
    "# import all libraries \n",
    "import numpy as np\n",
    "from sklearn.linear_model import LogisticRegression\n",
    "import matplotlib.pyplot as plt\n",
    "import networkx as nx\n",
    "from sklearn.manifold import TSNE\n",
    "import random\n",
    "import warnings\n",
    "from sklearn.cluster import KMeans\n",
    "from sklearn.metrics import accuracy_score, f1_score\n",
    "import community as comm\n",
    "import community.community_louvain\n",
    "import networkx as nx\n",
    "from gensim.models import Word2Vec\n",
    "import random\n",
    "import time\n",
    "\n",
    "\n",
    "\n",
    "warnings.filterwarnings('ignore')"
   ]
  },
  {
   "cell_type": "code",
   "execution_count": 2,
   "id": "13e21b3c",
   "metadata": {
    "execution": {
     "iopub.execute_input": "2023-04-26T07:13:25.756114Z",
     "iopub.status.busy": "2023-04-26T07:13:25.755621Z",
     "iopub.status.idle": "2023-04-26T07:13:29.284810Z",
     "shell.execute_reply": "2023-04-26T07:13:29.284312Z"
    }
   },
   "outputs": [],
   "source": [
    "from gmaze import cluster, embed\n",
    "import numpy as np\n",
    "from utils import load_graph, get_embedding, deepwalk_walks\n",
    "import community as comm\n",
    "from sklearn.cluster import KMeans\n",
    "import time\n",
    "import numpy as np"
   ]
  },
  {
   "cell_type": "code",
   "execution_count": 3,
   "id": "e3db99cd",
   "metadata": {
    "execution": {
     "iopub.execute_input": "2023-04-26T07:13:29.287898Z",
     "iopub.status.busy": "2023-04-26T07:13:29.287455Z",
     "iopub.status.idle": "2023-04-26T07:13:29.290363Z",
     "shell.execute_reply": "2023-04-26T07:13:29.289900Z"
    }
   },
   "outputs": [],
   "source": [
    "length = 10\n",
    "max_iters = 10\n",
    "k=10\n",
    "num_walks=80\n",
    "embed_size=128"
   ]
  },
  {
   "cell_type": "code",
   "execution_count": 4,
   "id": "b05c3884",
   "metadata": {
    "execution": {
     "iopub.execute_input": "2023-04-26T07:13:29.292670Z",
     "iopub.status.busy": "2023-04-26T07:13:29.292448Z",
     "iopub.status.idle": "2023-04-26T07:13:34.998834Z",
     "shell.execute_reply": "2023-04-26T07:13:34.998392Z"
    }
   },
   "outputs": [
    {
     "name": "stdout",
     "output_type": "stream",
     "text": [
      "data file used is facebook_combined.txt\n",
      "Number of nodes:  4039\n",
      "Number of edges:  176468\n"
     ]
    }
   ],
   "source": [
    "kmeans = cluster.Kmeans()\n",
    "G = load_graph(graphfile = 'facebook_combined.txt')\n",
    "walks_deepwalk = deepwalk_walks(G, walk_length=length, num_walks=num_walks)"
   ]
  },
  {
   "cell_type": "code",
   "execution_count": 5,
   "id": "ea3231de",
   "metadata": {
    "execution": {
     "iopub.execute_input": "2023-04-26T07:13:35.001466Z",
     "iopub.status.busy": "2023-04-26T07:13:35.001106Z",
     "iopub.status.idle": "2023-04-26T07:13:35.004384Z",
     "shell.execute_reply": "2023-04-26T07:13:35.003989Z"
    }
   },
   "outputs": [
    {
     "name": "stdout",
     "output_type": "stream",
     "text": [
      "\n",
      "Starting kmeans on gpu...\n"
     ]
    }
   ],
   "source": [
    "# print(\"\\nStarting kmeans on gpu...\")"
   ]
  },
  {
   "cell_type": "code",
   "execution_count": 6,
   "id": "c56054e6",
   "metadata": {
    "execution": {
     "iopub.execute_input": "2023-04-26T07:13:35.006284Z",
     "iopub.status.busy": "2023-04-26T07:13:35.006114Z",
     "iopub.status.idle": "2023-04-26T07:13:58.345677Z",
     "shell.execute_reply": "2023-04-26T07:13:58.345150Z"
    }
   },
   "outputs": [
    {
     "name": "stdout",
     "output_type": "stream",
     "text": [
      "Learning embedding vectors...\n",
      "Learning embedding vectors done!\n",
      "Finished kmeans...\n",
      "Execution time: 0.14095568656921387 seconds\n"
     ]
    }
   ],
   "source": [
    "embeddings_deepwalk = embed.word2vec(G,walks_deepwalk,embed_size=embed_size)\n",
    "start_time = time.time()\n",
    "clusters = kmeans.kmeans_cuda(embeddings_deepwalk, k, max_iters)\n",
    "end_time = time.time()\n",
    "print(\"Finished kmeans...\")\n",
    "elapsed_time = end_time - start_time\n",
    "print(\"Execution time:\", elapsed_time, \"seconds\")"
   ]
  },
  {
   "cell_type": "code",
   "execution_count": 7,
   "id": "02aecaa4",
   "metadata": {
    "execution": {
     "iopub.execute_input": "2023-04-26T07:13:58.347818Z",
     "iopub.status.busy": "2023-04-26T07:13:58.347569Z",
     "iopub.status.idle": "2023-04-26T07:13:58.351105Z",
     "shell.execute_reply": "2023-04-26T07:13:58.350727Z"
    }
   },
   "outputs": [
    {
     "name": "stdout",
     "output_type": "stream",
     "text": [
      "Before - Clusters: [5 5 5 ... 3 3 5]\n"
     ]
    }
   ],
   "source": [
    "print(\"Before - Clusters:\",clusters)"
   ]
  },
  {
   "cell_type": "code",
   "execution_count": 8,
   "id": "c406a14c",
   "metadata": {
    "execution": {
     "iopub.execute_input": "2023-04-26T07:13:58.353070Z",
     "iopub.status.busy": "2023-04-26T07:13:58.352823Z",
     "iopub.status.idle": "2023-04-26T07:13:58.411438Z",
     "shell.execute_reply": "2023-04-26T07:13:58.411059Z"
    }
   },
   "outputs": [
    {
     "name": "stdout",
     "output_type": "stream",
     "text": [
      "After - Clusters 4039\n"
     ]
    }
   ],
   "source": [
    "cluster_labels = [int(c) for c in clusters]\n",
    "#clusters = [\", \".join(str(c) for c in clusters)]\n",
    "print(\"After - Clusters\",len(cluster_labels))"
   ]
  },
  {
   "cell_type": "code",
   "execution_count": 9,
   "id": "1ce8bcb3",
   "metadata": {
    "execution": {
     "iopub.execute_input": "2023-04-26T07:13:58.413292Z",
     "iopub.status.busy": "2023-04-26T07:13:58.413133Z",
     "iopub.status.idle": "2023-04-26T07:13:58.416106Z",
     "shell.execute_reply": "2023-04-26T07:13:58.415605Z"
    }
   },
   "outputs": [
    {
     "name": "stdout",
     "output_type": "stream",
     "text": [
      "Dict Clusters 4039\n"
     ]
    }
   ],
   "source": [
    "node_to_cluster = dict(zip(G.nodes(), cluster_labels))\n",
    "print(\"Dict Clusters\",len(node_to_cluster))"
   ]
  },
  {
   "cell_type": "code",
   "execution_count": 10,
   "id": "32d15b5a",
   "metadata": {
    "execution": {
     "iopub.execute_input": "2023-04-26T07:13:58.417944Z",
     "iopub.status.busy": "2023-04-26T07:13:58.417786Z",
     "iopub.status.idle": "2023-04-26T07:13:58.420427Z",
     "shell.execute_reply": "2023-04-26T07:13:58.419927Z"
    }
   },
   "outputs": [
    {
     "name": "stdout",
     "output_type": "stream",
     "text": [
      "Values 4039\n"
     ]
    }
   ],
   "source": [
    "print(\"Values\", len(node_to_cluster.values()))"
   ]
  },
  {
   "cell_type": "code",
   "execution_count": 11,
   "id": "296ed727",
   "metadata": {
    "execution": {
     "iopub.execute_input": "2023-04-26T07:13:58.422247Z",
     "iopub.status.busy": "2023-04-26T07:13:58.422007Z",
     "iopub.status.idle": "2023-04-26T07:14:47.473038Z",
     "shell.execute_reply": "2023-04-26T07:14:47.472587Z"
    }
   },
   "outputs": [
    {
     "name": "stderr",
     "output_type": "stream",
     "text": [
      "*c* argument looks like a single numeric RGB or RGBA sequence, which should be avoided as value-mapping will have precedence in case its length matches with *x* & *y*.  Please use the *color* keyword-argument or provide a 2D array with a single row if you intend to specify the same RGB or RGBA value for all points.\n",
      "*c* argument looks like a single numeric RGB or RGBA sequence, which should be avoided as value-mapping will have precedence in case its length matches with *x* & *y*.  Please use the *color* keyword-argument or provide a 2D array with a single row if you intend to specify the same RGB or RGBA value for all points.\n",
      "*c* argument looks like a single numeric RGB or RGBA sequence, which should be avoided as value-mapping will have precedence in case its length matches with *x* & *y*.  Please use the *color* keyword-argument or provide a 2D array with a single row if you intend to specify the same RGB or RGBA value for all points.\n",
      "*c* argument looks like a single numeric RGB or RGBA sequence, which should be avoided as value-mapping will have precedence in case its length matches with *x* & *y*.  Please use the *color* keyword-argument or provide a 2D array with a single row if you intend to specify the same RGB or RGBA value for all points.\n",
      "*c* argument looks like a single numeric RGB or RGBA sequence, which should be avoided as value-mapping will have precedence in case its length matches with *x* & *y*.  Please use the *color* keyword-argument or provide a 2D array with a single row if you intend to specify the same RGB or RGBA value for all points.\n",
      "*c* argument looks like a single numeric RGB or RGBA sequence, which should be avoided as value-mapping will have precedence in case its length matches with *x* & *y*.  Please use the *color* keyword-argument or provide a 2D array with a single row if you intend to specify the same RGB or RGBA value for all points.\n",
      "*c* argument looks like a single numeric RGB or RGBA sequence, which should be avoided as value-mapping will have precedence in case its length matches with *x* & *y*.  Please use the *color* keyword-argument or provide a 2D array with a single row if you intend to specify the same RGB or RGBA value for all points.\n",
      "*c* argument looks like a single numeric RGB or RGBA sequence, which should be avoided as value-mapping will have precedence in case its length matches with *x* & *y*.  Please use the *color* keyword-argument or provide a 2D array with a single row if you intend to specify the same RGB or RGBA value for all points.\n",
      "*c* argument looks like a single numeric RGB or RGBA sequence, which should be avoided as value-mapping will have precedence in case its length matches with *x* & *y*.  Please use the *color* keyword-argument or provide a 2D array with a single row if you intend to specify the same RGB or RGBA value for all points.\n",
      "*c* argument looks like a single numeric RGB or RGBA sequence, which should be avoided as value-mapping will have precedence in case its length matches with *x* & *y*.  Please use the *color* keyword-argument or provide a 2D array with a single row if you intend to specify the same RGB or RGBA value for all points.\n"
     ]
    },
    {
     "data": {
      "image/png": "[encoded data removed]",
      "text/plain": [
       "<Figure size 432x288 with 1 Axes>"
      ]
     },
     "metadata": {},
     "output_type": "display_data"
    },
    {
     "data": {
      "text/plain": [
       "<Figure size 2160x1008 with 0 Axes>"
      ]
     },
     "metadata": {},
     "output_type": "display_data"
    }
   ],
   "source": [
    "import networkx as nx\n",
    "import matplotlib.pyplot as plt\n",
    "\n",
    "# assume G is a networkx graph and node_to_cluster is your dictionary mapping nodes to cluster labels\n",
    "pos = nx.spring_layout(G)\n",
    "\n",
    "# get unique labels and assign colors to them\n",
    "unique_labels = list(set(node_to_cluster.values()))\n",
    "num_labels = len(unique_labels)\n",
    "node_colors = plt.cm.tab10([i/num_labels for i in range(num_labels)])\n",
    "\n",
    "# draw nodes and edges\n",
    "for label in unique_labels:\n",
    "    labeled_nodes = [node for node, cluster_label in node_to_cluster.items() if cluster_label == label]\n",
    "    nx.draw_networkx_nodes(G, pos, nodelist=labeled_nodes, node_color=node_colors[label], label=label)\n",
    "# nx.draw_networkx_edges(G, pos, alpha=0.5)\n",
    "\n",
    "# add labels to nodes\n",
    "# labels = {node: str(node) for node in G.nodes()}\n",
    "# nx.draw_networkx_labels(G, pos, labels=labels)\n",
    "\n",
    "# add legend to the plot\n",
    "# plt.legend(unique_labels, title='Clusters')\n",
    "\n",
    "# set axis label and show the plot\n",
    "# plt.xlabel('X Axis Label')\n",
    "# plt.ylabel('Y Axis Label')\n",
    "\n",
    "# set the figure size\n",
    "plt.figure(figsize=(30,14))\n",
    "\n",
    "plt.show()\n"
   ]
  },
  {
   "cell_type": "code",
   "execution_count": 1,
   "id": "0391f946",
   "metadata": {},
   "outputs": [
    {
     "name": "stdout",
     "output_type": "stream",
     "text": [
      "Kmeans on cpu\n"
     ]
    }
   ],
   "source": [
    "# Print(\"Kmeans on cpu\"):\n",
    "print(\"Kmeans on cpu\")"
   ]
  },
  {
   "cell_type": "code",
   "execution_count": 2,
   "id": "adaec60a",
   "metadata": {},
   "outputs": [
    {
     "name": "stdout",
     "output_type": "stream",
     "text": [
      "\n",
      "Starting kmeans on cpu...\n"
     ]
    },
    {
     "ename": "NameError",
     "evalue": "name 'get_embedding' is not defined",
     "output_type": "error",
     "traceback": [
      "\u001b[0;31m---------------------------------------------------------------------------\u001b[0m",
      "\u001b[0;31mNameError\u001b[0m                                 Traceback (most recent call last)",
      "\u001b[0;32m<ipython-input-2-6e0720313600>\u001b[0m in \u001b[0;36m<module>\u001b[0;34m\u001b[0m\n\u001b[1;32m      1\u001b[0m \u001b[0mprint\u001b[0m\u001b[0;34m(\u001b[0m\u001b[0;34m\"\\nStarting kmeans on cpu...\"\u001b[0m\u001b[0;34m)\u001b[0m\u001b[0;34m\u001b[0m\u001b[0;34m\u001b[0m\u001b[0m\n\u001b[0;32m----> 2\u001b[0;31m \u001b[0membeddings_deepwalk\u001b[0m \u001b[0;34m=\u001b[0m \u001b[0mget_embedding\u001b[0m\u001b[0;34m(\u001b[0m\u001b[0mG\u001b[0m\u001b[0;34m,\u001b[0m\u001b[0mwalks_deepwalk\u001b[0m\u001b[0;34m,\u001b[0m\u001b[0membed_size\u001b[0m\u001b[0;34m=\u001b[0m\u001b[0membed_size\u001b[0m\u001b[0;34m)\u001b[0m\u001b[0;34m\u001b[0m\u001b[0;34m\u001b[0m\u001b[0m\n\u001b[0m\u001b[1;32m      3\u001b[0m \u001b[0mstart_time\u001b[0m \u001b[0;34m=\u001b[0m \u001b[0mtime\u001b[0m\u001b[0;34m.\u001b[0m\u001b[0mtime\u001b[0m\u001b[0;34m(\u001b[0m\u001b[0;34m)\u001b[0m\u001b[0;34m\u001b[0m\u001b[0;34m\u001b[0m\u001b[0m\n\u001b[1;32m      4\u001b[0m \u001b[0mclusters\u001b[0m \u001b[0;34m=\u001b[0m \u001b[0mKMeans\u001b[0m\u001b[0;34m(\u001b[0m\u001b[0mn_clusters\u001b[0m\u001b[0;34m=\u001b[0m\u001b[0mk\u001b[0m\u001b[0;34m,\u001b[0m \u001b[0mrandom_state\u001b[0m\u001b[0;34m=\u001b[0m\u001b[0;36m0\u001b[0m\u001b[0;34m,\u001b[0m\u001b[0mmax_iter\u001b[0m\u001b[0;34m=\u001b[0m\u001b[0mmax_iters\u001b[0m\u001b[0;34m)\u001b[0m\u001b[0;34m.\u001b[0m\u001b[0mfit\u001b[0m\u001b[0;34m(\u001b[0m\u001b[0membeddings_deepwalk\u001b[0m\u001b[0;34m)\u001b[0m\u001b[0;34m\u001b[0m\u001b[0;34m\u001b[0m\u001b[0m\n\u001b[1;32m      5\u001b[0m \u001b[0mend_time\u001b[0m \u001b[0;34m=\u001b[0m \u001b[0mtime\u001b[0m\u001b[0;34m.\u001b[0m\u001b[0mtime\u001b[0m\u001b[0;34m(\u001b[0m\u001b[0;34m)\u001b[0m\u001b[0;34m\u001b[0m\u001b[0;34m\u001b[0m\u001b[0m\n",
      "\u001b[0;31mNameError\u001b[0m: name 'get_embedding' is not defined"
     ]
    }
   ],
   "source": [
    "print(\"\\nStarting kmeans on cpu...\")\n",
    "embeddings_deepwalk = get_embedding(G,walks_deepwalk,embed_size=embed_size)\n",
    "start_time = time.time()\n",
    "clusters = KMeans(n_clusters=k, random_state=0,max_iter=max_iters).fit(embeddings_deepwalk)\n",
    "end_time = time.time()\n",
    "print(\"Finished kmeans...\")\n",
    "elapsed_time = end_time - start_time\n",
    "print(\"Execution time:\", elapsed_time, \"seconds\")"
   ]
  },
  {
   "cell_type": "code",
   "execution_count": 3,
   "id": "cc60c5d3",
   "metadata": {},
   "outputs": [
    {
     "ename": "NameError",
     "evalue": "name 'clusters' is not defined",
     "output_type": "error",
     "traceback": [
      "\u001b[0;31m---------------------------------------------------------------------------\u001b[0m",
      "\u001b[0;31mNameError\u001b[0m                                 Traceback (most recent call last)",
      "\u001b[0;32m<ipython-input-3-4193df59dcbd>\u001b[0m in \u001b[0;36m<module>\u001b[0;34m\u001b[0m\n\u001b[0;32m----> 1\u001b[0;31m \u001b[0mcluster_labels\u001b[0m \u001b[0;34m=\u001b[0m \u001b[0;34m[\u001b[0m\u001b[0mint\u001b[0m\u001b[0;34m(\u001b[0m\u001b[0mc\u001b[0m\u001b[0;34m)\u001b[0m \u001b[0;32mfor\u001b[0m \u001b[0mc\u001b[0m \u001b[0;32min\u001b[0m \u001b[0mclusters\u001b[0m\u001b[0;34m]\u001b[0m\u001b[0;34m\u001b[0m\u001b[0;34m\u001b[0m\u001b[0m\n\u001b[0m\u001b[1;32m      2\u001b[0m \u001b[0;31m#clusters = [\", \".join(str(c) for c in clusters)]\u001b[0m\u001b[0;34m\u001b[0m\u001b[0;34m\u001b[0m\u001b[0;34m\u001b[0m\u001b[0m\n\u001b[1;32m      3\u001b[0m \u001b[0mprint\u001b[0m\u001b[0;34m(\u001b[0m\u001b[0;34m\"After - Clusters\"\u001b[0m\u001b[0;34m,\u001b[0m\u001b[0mlen\u001b[0m\u001b[0;34m(\u001b[0m\u001b[0mcluster_labels\u001b[0m\u001b[0;34m)\u001b[0m\u001b[0;34m)\u001b[0m\u001b[0;34m\u001b[0m\u001b[0;34m\u001b[0m\u001b[0m\n",
      "\u001b[0;31mNameError\u001b[0m: name 'clusters' is not defined"
     ]
    }
   ],
   "source": [
    "cluster_labels = [int(c) for c in clusters]\n",
    "#clusters = [\", \".join(str(c) for c in clusters)]\n",
    "print(\"After - Clusters\",len(cluster_labels))\n",
    "node_to_cluster = dict(zip(G.nodes(), cluster_labels))\n",
    "print(\"Dict Clusters\",len(node_to_cluster))"
   ]
  },
  {
   "cell_type": "code",
   "execution_count": null,
   "id": "b613c1cd",
   "metadata": {},
   "outputs": [],
   "source": [
    "import networkx as nx\n",
    "import matplotlib.pyplot as plt\n",
    "\n",
    "# assume G is a networkx graph and node_to_cluster is your dictionary mapping nodes to cluster labels\n",
    "pos = nx.spring_layout(G)\n",
    "\n",
    "# get unique labels and assign colors to them\n",
    "unique_labels = list(set(node_to_cluster.values()))\n",
    "num_labels = len(unique_labels)\n",
    "node_colors = plt.cm.tab10([i/num_labels for i in range(num_labels)])\n",
    "\n",
    "# draw nodes and edges\n",
    "for label in unique_labels:\n",
    "    labeled_nodes = [node for node, cluster_label in node_to_cluster.items() if cluster_label == label]\n",
    "    nx.draw_networkx_nodes(G, pos, nodelist=labeled_nodes, node_color=node_colors[label], label=label)\n",
    "# nx.draw_networkx_edges(G, pos, alpha=0.5)\n",
    "\n",
    "# add labels to nodes\n",
    "# labels = {node: str(node) for node in G.nodes()}\n",
    "# nx.draw_networkx_labels(G, pos, labels=labels)\n",
    "\n",
    "# add legend to the plot\n",
    "# plt.legend(unique_labels, title='Clusters')\n",
    "\n",
    "# set axis label and show the plot\n",
    "# plt.xlabel('X Axis Label')\n",
    "# plt.ylabel('Y Axis Label')\n",
    "\n",
    "# set the figure size\n",
    "plt.figure(figsize=(30,14))\n",
    "\n",
    "plt.show()\n"
   ]
  },
  {
   "cell_type": "code",
   "execution_count": 12,
   "id": "330a2bfc",
   "metadata": {
    "execution": {
     "iopub.execute_input": "2023-04-26T07:14:47.475161Z",
     "iopub.status.busy": "2023-04-26T07:14:47.475016Z",
     "iopub.status.idle": "2023-04-26T07:14:47.477861Z",
     "shell.execute_reply": "2023-04-26T07:14:47.477504Z"
    }
   },
   "outputs": [],
   "source": [
    "# #Main -working properly \n",
    "# # assume G is a networkx graph and node_to_cluster is your dictionary mapping nodes to cluster labels\n",
    "# pos = nx.spring_layout(G)\n",
    "\n",
    "# # get unique labels and assign colors to them\n",
    "# unique_labels = list(set(node_to_cluster.values()))\n",
    "# num_labels = len(unique_labels)\n",
    "# node_colors = plt.cm.tab10([i/num_labels for i in range(num_labels)])\n",
    "\n",
    "# # draw nodes and edges\n",
    "# for label in unique_labels:\n",
    "#     labeled_nodes = [node for node, cluster_label in node_to_cluster.items() if cluster_label == label]\n",
    "#     nx.draw_networkx_nodes(G, pos, nodelist=labeled_nodes, node_color=node_colors[label])\n",
    "# nx.draw_networkx_edges(G, pos, alpha=0.5)\n",
    "\n",
    "# # show the plot\n",
    "# plt.axis('off')\n",
    "# plt.show()\n"
   ]
  },
  {
   "cell_type": "code",
   "execution_count": 13,
   "id": "b8ad91a0",
   "metadata": {
    "execution": {
     "iopub.execute_input": "2023-04-26T07:14:47.479691Z",
     "iopub.status.busy": "2023-04-26T07:14:47.479554Z",
     "iopub.status.idle": "2023-04-26T07:14:47.482122Z",
     "shell.execute_reply": "2023-04-26T07:14:47.481763Z"
    }
   },
   "outputs": [],
   "source": [
    "# for key, value in node_to_cluster.items():\n",
    "#     if not value:\n",
    "#         print(f\"The node with an empty value is: {key}\")"
   ]
  },
  {
   "cell_type": "code",
   "execution_count": 14,
   "id": "8cdbf1f1",
   "metadata": {
    "execution": {
     "iopub.execute_input": "2023-04-26T07:14:47.483999Z",
     "iopub.status.busy": "2023-04-26T07:14:47.483839Z",
     "iopub.status.idle": "2023-04-26T07:14:47.486883Z",
     "shell.execute_reply": "2023-04-26T07:14:47.486524Z"
    }
   },
   "outputs": [],
   "source": [
    "# def visualize_graph(G, cluster_labels):\n",
    "#     # check that the number of nodes in G and cluster_labels match\n",
    "#     if len(G) != len(cluster_labels):\n",
    "#         raise ValueError(\"The number of nodes in G and cluster_labels must match.\")\n",
    "\n",
    "#     # check that all nodes in G have a corresponding label in cluster_labels\n",
    "#     if not set(range(len(G))).issubset(set(cluster_labels)):\n",
    "#         raise ValueError(\"All nodes in G must have a corresponding label in cluster_labels.\")\n",
    "\n",
    "#     # get unique labels and assign colors to them\n",
    "#     unique_labels = list(set(cluster_labels))\n",
    "#     num_labels = len(unique_labels)\n",
    "#     node_colors = plt.cm.tab10([i/num_labels for i in range(num_labels)])\n",
    "\n",
    "#     # create a dictionary mapping nodes to cluster labels\n",
    "#     node_to_cluster = {i: -1 for i in range(len(G))}\n",
    "#     for i, label in enumerate(cluster_labels):\n",
    "#         node_to_cluster[i] = label\n",
    "\n",
    "#     # define the layout of the graph and draw the nodes and edges\n",
    "#     pos = nx.spring_layout(G)\n",
    "#     for label in unique_labels:\n",
    "#         labeled_nodes = [node for node in G.nodes() if node_to_cluster[node] == label]\n",
    "#         nx.draw_networkx_nodes(G, pos, nodelist=labeled_nodes, node_color=node_colors[label], \n",
    "#                                node_size=200, alpha=0.8)\n",
    "#     nx.draw_networkx_edges(G, pos, width=1.0, alpha=0.5)\n",
    "#     plt.axis('off')\n",
    "#     plt.show()"
   ]
  },
  {
   "cell_type": "code",
   "execution_count": 15,
   "id": "312c76ef",
   "metadata": {
    "execution": {
     "iopub.execute_input": "2023-04-26T07:14:47.488725Z",
     "iopub.status.busy": "2023-04-26T07:14:47.488565Z",
     "iopub.status.idle": "2023-04-26T07:14:47.491285Z",
     "shell.execute_reply": "2023-04-26T07:14:47.490923Z"
    }
   },
   "outputs": [],
   "source": [
    "# visualize_graph(G, cluster_labels)"
   ]
  },
  {
   "cell_type": "code",
   "execution_count": 16,
   "id": "5db9d266",
   "metadata": {
    "execution": {
     "iopub.execute_input": "2023-04-26T07:14:47.493114Z",
     "iopub.status.busy": "2023-04-26T07:14:47.492953Z",
     "iopub.status.idle": "2023-04-26T07:14:47.495783Z",
     "shell.execute_reply": "2023-04-26T07:14:47.495418Z"
    }
   },
   "outputs": [],
   "source": [
    "# node_to_cluster = dict(zip(G.nodes(), clusters))"
   ]
  },
  {
   "cell_type": "code",
   "execution_count": 17,
   "id": "a623cac6",
   "metadata": {
    "execution": {
     "iopub.execute_input": "2023-04-26T07:14:47.497639Z",
     "iopub.status.busy": "2023-04-26T07:14:47.497471Z",
     "iopub.status.idle": "2023-04-26T07:14:47.499577Z",
     "shell.execute_reply": "2023-04-26T07:14:47.499174Z"
    }
   },
   "outputs": [],
   "source": [
    "# # Get list of cluster labels\n",
    "# unique_labels = set(node_to_cluster.values())\n",
    "\n",
    "# # Create dictionary of node colors based on cluster labels\n",
    "# node_colors = [plt.cm.tab10(label) for label in node_to_cluster.values()]"
   ]
  },
  {
   "cell_type": "code",
   "execution_count": 18,
   "id": "ebd9f62b",
   "metadata": {
    "execution": {
     "iopub.execute_input": "2023-04-26T07:14:47.501343Z",
     "iopub.status.busy": "2023-04-26T07:14:47.501206Z",
     "iopub.status.idle": "2023-04-26T07:14:47.503250Z",
     "shell.execute_reply": "2023-04-26T07:14:47.502831Z"
    }
   },
   "outputs": [],
   "source": [
    "# pos = nx.spring_layout(G)\n",
    "# for label in unique_labels:\n",
    "#     labeled_nodes = [node for node in G.nodes() if node_to_cluster[node] == label]\n",
    "#     nx.draw_networkx_nodes(G, pos, nodelist=labeled_nodes, node_color=node_colors, \n",
    "#                            node_size=200, alpha=0.8, cmap=plt.cm.tab10)\n",
    "# nx.draw_networkx_edges(G, pos, width=1.0, alpha=0.5)\n",
    "# plt.axis('off')\n",
    "# plt.show()"
   ]
  },
  {
   "cell_type": "code",
   "execution_count": 19,
   "id": "7198620f",
   "metadata": {
    "execution": {
     "iopub.execute_input": "2023-04-26T07:14:47.505013Z",
     "iopub.status.busy": "2023-04-26T07:14:47.504878Z",
     "iopub.status.idle": "2023-04-26T07:14:47.507299Z",
     "shell.execute_reply": "2023-04-26T07:14:47.506920Z"
    }
   },
   "outputs": [],
   "source": [
    "# Assign a cluster label to each node\n",
    "# node_to_cluster = {}\n",
    "# for i in range(len(clusters)):\n",
    "#     node=clusters[i]\n",
    "#     node_to_cluster[node] = i + 1"
   ]
  },
  {
   "cell_type": "code",
   "execution_count": 20,
   "id": "beee616f",
   "metadata": {
    "execution": {
     "iopub.execute_input": "2023-04-26T07:14:47.509155Z",
     "iopub.status.busy": "2023-04-26T07:14:47.508930Z",
     "iopub.status.idle": "2023-04-26T07:14:47.510948Z",
     "shell.execute_reply": "2023-04-26T07:14:47.510521Z"
    }
   },
   "outputs": [],
   "source": [
    "# # Assign cluster labels to nodes in the graph\n",
    "# cluster_labels = [clusters[node] for node in G.nodes()]"
   ]
  },
  {
   "cell_type": "code",
   "execution_count": 21,
   "id": "b019c2d6",
   "metadata": {
    "execution": {
     "iopub.execute_input": "2023-04-26T07:14:47.512740Z",
     "iopub.status.busy": "2023-04-26T07:14:47.512604Z",
     "iopub.status.idle": "2023-04-26T07:14:47.515309Z",
     "shell.execute_reply": "2023-04-26T07:14:47.514918Z"
    }
   },
   "outputs": [],
   "source": [
    "# def load_graph():\n",
    "#     #graphfile = 'facebook_combined.txt'\n",
    "#     graphfile = 'facebook_combined.txt'\n",
    "#     print(\"data file used is \"+ graphfile)\n",
    "#     # labelfile = 'facebook_combined.nodes.labels'\n",
    "#     G = nx.read_edgelist(graphfile, nodetype=None)\n",
    "#     G = G.to_directed()\n",
    "#     print(\"Number of nodes: \", G.number_of_nodes())\n",
    "#     print(\"Number of edges: \", G.number_of_edges())\n",
    "#     return G\n",
    "\n",
    "# def get_embedding(G, walks, embed_size=128, window_size=5, workers=3, iter=5, **kwargs):\n",
    "#     kwargs[\"sentences\"] = walks\n",
    "#     kwargs[\"min_count\"] = kwargs.get(\"min_count\", 0)\n",
    "#     kwargs[\"vector_size\"] = embed_size\n",
    "#     kwargs[\"sg\"] = 1  # skip gram\n",
    "#     kwargs[\"hs\"] = 1  # deepwalk use Hierarchical Softmax\n",
    "#     kwargs[\"workers\"] = workers\n",
    "#     kwargs[\"window\"] = window_size\n",
    "#     kwargs[\"epochs\"] = iter\n",
    "\n",
    "#     print(\"Learning embedding vectors...\")\n",
    "#     model = Word2Vec(**kwargs)\n",
    "#     print(\"Learning embedding vectors done!\")\n",
    "#     print(\"model is \\n\")\n",
    "#     print(model)\n",
    "#     embeddings = {}\n",
    "#     for word in G.nodes():\n",
    "#         embeddings[word] = model.wv[word]\n",
    "#     return embeddings\n",
    "\n",
    "\n",
    "# def deepwalk_walks(G, num_walks, walk_length,):\n",
    "#         nodes = G.nodes()\n",
    "#         walks = []\n",
    "#         for _ in range(num_walks):\n",
    "#             for v in nodes:\n",
    "#                 walk = [v]\n",
    "#                 while len(walk) < walk_length:\n",
    "#                     cur = walk[-1]\n",
    "#                     cur_nbrs = list(G.neighbors(cur))\n",
    "#                     if len(cur_nbrs) > 0:\n",
    "#                         walk.append(random.choice(cur_nbrs))\n",
    "#                     else:\n",
    "#                         break\n",
    "#                 walks.append(walk)\n",
    "#         return walks\n"
   ]
  },
  {
   "cell_type": "code",
   "execution_count": 22,
   "id": "022adf9a",
   "metadata": {
    "execution": {
     "iopub.execute_input": "2023-04-26T07:14:47.517084Z",
     "iopub.status.busy": "2023-04-26T07:14:47.516949Z",
     "iopub.status.idle": "2023-04-26T07:14:47.519296Z",
     "shell.execute_reply": "2023-04-26T07:14:47.518920Z"
    }
   },
   "outputs": [],
   "source": [
    "# G = load_graph()\n",
    "# l = 10\n",
    "# walks_deepwalk = deepwalk_walks(G, walk_length=l, num_walks=80)\n",
    "# # embeddings_deepwalk = get_embedding(G,walks_deepwalk)\n",
    "# G1 = G.to_undirected()"
   ]
  },
  {
   "cell_type": "code",
   "execution_count": 23,
   "id": "0345140e",
   "metadata": {
    "execution": {
     "iopub.execute_input": "2023-04-26T07:14:47.521108Z",
     "iopub.status.busy": "2023-04-26T07:14:47.520972Z",
     "iopub.status.idle": "2023-04-26T07:14:47.523314Z",
     "shell.execute_reply": "2023-04-26T07:14:47.522809Z"
    }
   },
   "outputs": [],
   "source": [
    "# G = load_graph()\n",
    "# l = 10\n",
    "# walks_deepwalk = deepwalk_walks(G, walk_length=l, num_walks=80)\n",
    "# embeddings_deepwalk = get_embedding(G,walks_deepwalk)\n",
    "# G1 = G.to_undirected()\n",
    "\n",
    "# points = [[0] for i in range(G1.number_of_nodes()-1)]\n",
    "# for i in range(0, G1.number_of_nodes()-1):\n",
    "#     points[i] = embeddings_deepwalk[str(i+1)]\n",
    "# points = np.array(points)\n",
    "\n",
    "# print(\"shape of points is \"+ str(points.shape))\n",
    "\n",
    "\n",
    "# #modularity_scores = cluster_eval(G1, embeddings_deepwalk)\n",
    "# #points = np.array([ [9.0, 10.0], [1000, 9000],[1,2],[2,1],[2,2],[9,9],[1000,8000]])\n",
    "# #k = 3\n",
    "\n",
    "# max_iters = 10\n",
    "# NOC = 100\n",
    "\n",
    "# start_time = time.time()\n",
    "# print(\"\\nStarting kmeans...\")\n",
    "\n",
    "# k=15\n",
    "# clusters = KMeans(n_clusters=k, random_state=0).fit(points)\n",
    "   \n",
    "\n",
    "# print(\"\\nFinished kmeans...\")\n",
    "# end_time = time.time()\n",
    "\n",
    "# elapsed_time = end_time - start_time\n",
    "# print(\"Execution time:\", elapsed_time, \"seconds\")"
   ]
  },
  {
   "cell_type": "code",
   "execution_count": null,
   "id": "6ef94879",
   "metadata": {},
   "outputs": [],
   "source": []
  }
 ],
 "metadata": {
  "kernelspec": {
   "display_name": "Python 3 (ipykernel)",
   "language": "python",
   "name": "python3"
  },
  "language_info": {
   "codemirror_mode": {
    "name": "ipython",
    "version": 3
   },
   "file_extension": ".py",
   "mimetype": "text/x-python",
   "name": "python",
   "nbconvert_exporter": "python",
   "pygments_lexer": "ipython3",
   "version": "3.6.15"
  }
 },
 "nbformat": 4,
 "nbformat_minor": 5
}
